{
  "nbformat": 4,
  "nbformat_minor": 0,
  "metadata": {
    "colab": {
      "provenance": [],
      "authorship_tag": "ABX9TyNEYGtEcUEu+yj2j4ieiGv/",
      "include_colab_link": true
    },
    "kernelspec": {
      "name": "python3",
      "display_name": "Python 3"
    },
    "language_info": {
      "name": "python"
    }
  },
  "cells": [
    {
      "cell_type": "markdown",
      "metadata": {
        "id": "view-in-github",
        "colab_type": "text"
      },
      "source": [
        "<a href=\"https://colab.research.google.com/github/mohsina680/Python-Work-4/blob/main/4th_day.ipynb\" target=\"_parent\"><img src=\"https://colab.research.google.com/assets/colab-badge.svg\" alt=\"Open In Colab\"/></a>"
      ]
    },
    {
      "cell_type": "markdown",
      "source": [
        "**LISTS DAY 4**"
      ],
      "metadata": {
        "id": "VlrvcZSv2Zcn"
      }
    },
    {
      "cell_type": "code",
      "source": [
        "colors = ['red', 'blue', 'green']\n",
        "colors.append('yellow')\n",
        "print(colors[3])"
      ],
      "metadata": {
        "colab": {
          "base_uri": "https://localhost:8080/"
        },
        "id": "2jEhfyJQ2jAq",
        "outputId": "62a0ff40-be56-404f-aba1-e3329ae9803f"
      },
      "execution_count": null,
      "outputs": [
        {
          "output_type": "stream",
          "name": "stdout",
          "text": [
            "yellow\n"
          ]
        }
      ]
    },
    {
      "cell_type": "code",
      "source": [
        "Subject =['Maths', 'Science', 'Urdu', 'Computer']\n",
        "Subject.append('IST')\n",
        "print(Subject[3])"
      ],
      "metadata": {
        "colab": {
          "base_uri": "https://localhost:8080/"
        },
        "id": "UHM5trR_I8FJ",
        "outputId": "10574c8a-c9bc-43d3-dcb8-7a8c036d2525"
      },
      "execution_count": null,
      "outputs": [
        {
          "output_type": "stream",
          "name": "stdout",
          "text": [
            "Computer\n"
          ]
        }
      ]
    },
    {
      "cell_type": "code",
      "source": [
        "Subject =['Maths', 'Science', 'Urdu', 'Computer']\n",
        "Subject.insert(0, 'IST')\n",
        "print(Subject[0])"
      ],
      "metadata": {
        "colab": {
          "base_uri": "https://localhost:8080/"
        },
        "id": "OIhWjMuiJTlQ",
        "outputId": "484cfe2c-ddfc-40a0-9d35-867f6d3932e5"
      },
      "execution_count": null,
      "outputs": [
        {
          "output_type": "stream",
          "name": "stdout",
          "text": [
            "IST\n"
          ]
        }
      ]
    },
    {
      "cell_type": "code",
      "source": [
        "Subject =['Maths', 'Science', 'Urdu', 'Computer']\n",
        "Subject.remove('Urdu')\n",
        "print(Subject[2])"
      ],
      "metadata": {
        "colab": {
          "base_uri": "https://localhost:8080/"
        },
        "id": "PUOtBlmWJudQ",
        "outputId": "8795f662-1294-42c7-eb99-93ee78c78ad0"
      },
      "execution_count": null,
      "outputs": [
        {
          "output_type": "stream",
          "name": "stdout",
          "text": [
            "Computer\n"
          ]
        }
      ]
    },
    {
      "cell_type": "code",
      "source": [
        "Subject =['Maths', 'Science', 'Urdu', 'Computer']\n",
        "Subject.pop(3)\n",
        "print(Subject[1])"
      ],
      "metadata": {
        "colab": {
          "base_uri": "https://localhost:8080/"
        },
        "id": "cPIfRhmuKmCq",
        "outputId": "263f1f9e-8b17-4d32-e990-ca21cabc95a2"
      },
      "execution_count": null,
      "outputs": [
        {
          "output_type": "stream",
          "name": "stdout",
          "text": [
            "Science\n"
          ]
        }
      ]
    },
    {
      "cell_type": "code",
      "source": [
        "Subject =['Maths', 'Science', 'Urdu', 'Computer']\n",
        "Subject.clear()\n",
        "print(Subject)"
      ],
      "metadata": {
        "colab": {
          "base_uri": "https://localhost:8080/"
        },
        "id": "M5kW8BuNK62g",
        "outputId": "2f7f2855-b0af-4420-bb60-814e7b714384"
      },
      "execution_count": null,
      "outputs": [
        {
          "output_type": "stream",
          "name": "stdout",
          "text": [
            "[]\n"
          ]
        }
      ]
    },
    {
      "cell_type": "code",
      "source": [
        "Subject =['Maths', 'Science', 'Urdu', 'Computer']\n",
        "Subject.sort()\n",
        "print(Subject)"
      ],
      "metadata": {
        "colab": {
          "base_uri": "https://localhost:8080/"
        },
        "id": "3G7ApYwpK-zR",
        "outputId": "60ebc2f0-bc67-4eaa-c3f8-1eac8086480e"
      },
      "execution_count": null,
      "outputs": [
        {
          "output_type": "stream",
          "name": "stdout",
          "text": [
            "['Computer', 'Maths', 'Science', 'Urdu']\n"
          ]
        }
      ]
    },
    {
      "cell_type": "code",
      "source": [
        "Subject =['Maths', 'Science', 'Urdu', 'Computer']\n",
        "Subject.reverse()\n",
        "print(Subject)"
      ],
      "metadata": {
        "colab": {
          "base_uri": "https://localhost:8080/"
        },
        "id": "0GHgms1PLNm6",
        "outputId": "4765deab-3997-4785-ebaf-2407ad9bc17d"
      },
      "execution_count": null,
      "outputs": [
        {
          "output_type": "stream",
          "name": "stdout",
          "text": [
            "['Computer', 'Urdu', 'Science', 'Maths']\n"
          ]
        }
      ]
    },
    {
      "cell_type": "code",
      "source": [
        "Subject =['Maths', 'Science', 'Urdu', 'Computer']\n",
        "print(Subject.index('Science'))"
      ],
      "metadata": {
        "colab": {
          "base_uri": "https://localhost:8080/"
        },
        "id": "E5Ko66EJLRE3",
        "outputId": "cbd52a50-7fd6-41a0-d963-d4f41c6f4d19"
      },
      "execution_count": null,
      "outputs": [
        {
          "output_type": "stream",
          "name": "stdout",
          "text": [
            "1\n"
          ]
        }
      ]
    },
    {
      "cell_type": "code",
      "source": [
        "Subject =['Maths', 'Science', 'Urdu', 'Computer']\n",
        "print(Subject.count(Subject))"
      ],
      "metadata": {
        "colab": {
          "base_uri": "https://localhost:8080/"
        },
        "id": "v46NXskTLWi5",
        "outputId": "e8bdb2f6-e043-4002-c85d-71b1105d3f70"
      },
      "execution_count": null,
      "outputs": [
        {
          "output_type": "stream",
          "name": "stdout",
          "text": [
            "0\n"
          ]
        }
      ]
    },
    {
      "cell_type": "code",
      "source": [
        "Subject =['Maths', 'Science', 'Urdu', 'Computer']\n",
        "print(len(Subject))"
      ],
      "metadata": {
        "colab": {
          "base_uri": "https://localhost:8080/"
        },
        "id": "VlPvhaAMLvIQ",
        "outputId": "b92eb8d2-9ce6-418d-afd4-bde8ca07fe23"
      },
      "execution_count": null,
      "outputs": [
        {
          "output_type": "stream",
          "name": "stdout",
          "text": [
            "4\n"
          ]
        }
      ]
    },
    {
      "cell_type": "code",
      "source": [
        "Subject =['Maths', 'Science', 'Urdu', 'Computer']\n",
        "print(Subject[0:2])"
      ],
      "metadata": {
        "colab": {
          "base_uri": "https://localhost:8080/"
        },
        "id": "jAlHP0CRLy-B",
        "outputId": "1d948d1e-5b9c-4c77-aaca-7d34d2bde6cc"
      },
      "execution_count": null,
      "outputs": [
        {
          "output_type": "stream",
          "name": "stdout",
          "text": [
            "['Maths', 'Science']\n"
          ]
        }
      ]
    },
    {
      "cell_type": "code",
      "source": [
        "Subject_Marks=[20, 30, 40, 90]\n",
        "print(max(Subject_Marks))"
      ],
      "metadata": {
        "colab": {
          "base_uri": "https://localhost:8080/"
        },
        "id": "e7FZBFi6L5UJ",
        "outputId": "906334da-14e2-41bb-fe1c-936ac7b6ad49"
      },
      "execution_count": null,
      "outputs": [
        {
          "output_type": "stream",
          "name": "stdout",
          "text": [
            "90\n"
          ]
        }
      ]
    },
    {
      "cell_type": "code",
      "source": [
        "Subject_Marks=[20, 30, 40, 90]\n",
        "print(min(Subject_Marks))"
      ],
      "metadata": {
        "colab": {
          "base_uri": "https://localhost:8080/"
        },
        "id": "NYe9BWpwMDf2",
        "outputId": "44803eaf-81c4-44ca-b077-63894853afd5"
      },
      "execution_count": null,
      "outputs": [
        {
          "output_type": "stream",
          "name": "stdout",
          "text": [
            "20\n"
          ]
        }
      ]
    },
    {
      "cell_type": "code",
      "source": [
        "Subject_Marks=[40, 60, 90, 70, 90, 70,90]\n",
        "print(Subject_Marks.count(90))"
      ],
      "metadata": {
        "colab": {
          "base_uri": "https://localhost:8080/"
        },
        "id": "o6fqqtuEMKMk",
        "outputId": "a47b6d6a-4225-43c1-f20e-77d8cfddcd39"
      },
      "execution_count": null,
      "outputs": [
        {
          "output_type": "stream",
          "name": "stdout",
          "text": [
            "3\n"
          ]
        }
      ]
    },
    {
      "cell_type": "code",
      "source": [
        "Subject_Marks=[40, 60, 90, 70, 90, 70,90]\n",
        "Subject_Marks.sort()\n",
        "print(Subject_Marks)\n"
      ],
      "metadata": {
        "colab": {
          "base_uri": "https://localhost:8080/"
        },
        "id": "Fv0WPtwxgaoP",
        "outputId": "bebe5dc2-3d38-4322-e8dc-4e71686bb18f"
      },
      "execution_count": null,
      "outputs": [
        {
          "output_type": "stream",
          "name": "stdout",
          "text": [
            "[40, 60, 70, 70, 90, 90, 90]\n"
          ]
        }
      ]
    },
    {
      "cell_type": "markdown",
      "source": [
        "**Enumerate**"
      ],
      "metadata": {
        "id": "NU6JtqlDgzoJ"
      }
    },
    {
      "cell_type": "code",
      "source": [
        "fruits = ['apple', 'banana', 'cherry']\n",
        "for index, fruit in enumerate(fruits):\n",
        "  print(index, fruit)"
      ],
      "metadata": {
        "colab": {
          "base_uri": "https://localhost:8080/"
        },
        "id": "hPGD1XQ6g-IP",
        "outputId": "356ae918-1dd4-4734-b526-5779107146af"
      },
      "execution_count": null,
      "outputs": [
        {
          "output_type": "stream",
          "name": "stdout",
          "text": [
            "0 apple\n",
            "1 banana\n",
            "2 cherry\n"
          ]
        }
      ]
    },
    {
      "cell_type": "code",
      "source": [
        "fruits =['apple', 'banana', 'cherry', 'govva', 'orange', 'stowbery']\n",
        "for index, fruit in enumerate(fruits):\n",
        "  print(index, fruit)"
      ],
      "metadata": {
        "colab": {
          "base_uri": "https://localhost:8080/"
        },
        "id": "kKibx0nZhRlg",
        "outputId": "504342be-db91-4910-88f3-02cef879dde3"
      },
      "execution_count": null,
      "outputs": [
        {
          "output_type": "stream",
          "name": "stdout",
          "text": [
            "0 apple\n",
            "1 banana\n",
            "2 cherry\n",
            "3 govva\n",
            "4 orange\n",
            "5 stowbery\n"
          ]
        }
      ]
    },
    {
      "cell_type": "code",
      "source": [
        "Correct_Answer = ['Ali', 'Ahsan', 'Farman', 'Abdullah','Hammad']\n",
        "User_Answer = input('Enter Your Name: ')\n",
        "for index, (Correct,User) in enumerate(zip(Correct_Answer,User_Answer), start=1):\n",
        "  if Correct == User:\n",
        "    print(index, Correct_Answer)\n",
        "  else:\n",
        "    print(index, User_Answer)\n"
      ],
      "metadata": {
        "colab": {
          "base_uri": "https://localhost:8080/"
        },
        "id": "u99-iOrmh16B",
        "outputId": "6e6740a2-4f9a-428b-f410-dc17ca615413"
      },
      "execution_count": null,
      "outputs": [
        {
          "output_type": "stream",
          "name": "stdout",
          "text": [
            "Enter Your Name: Ahsan\n",
            "1 Ahsan\n",
            "2 Ahsan\n",
            "3 Ahsan\n",
            "4 Ahsan\n",
            "5 Ahsan\n"
          ]
        }
      ]
    },
    {
      "cell_type": "code",
      "source": [
        "Friend_Names = ['Shah', 'Abdullah', 'Ahsan', 'Waqar', 'Hammad']\n",
        "User5 = ['Ahsan', 'Ali','Waqar','Hammad']\n",
        "for index, (Friend,User) in enumerate(zip(Friend_Names,User5), start=1):\n",
        "  if Friend == User:\n",
        "    print(index, Friend_Names)\n",
        "  else:\n",
        "    print(index, User5)\n"
      ],
      "metadata": {
        "colab": {
          "base_uri": "https://localhost:8080/"
        },
        "id": "VoxKQKUqmYkj",
        "outputId": "d3d36d13-259b-4d8e-f4e9-4c130ab21d6f"
      },
      "execution_count": null,
      "outputs": [
        {
          "output_type": "stream",
          "name": "stdout",
          "text": [
            "1 ['Ahsan', 'Ali', 'Waqar', 'Hammad']\n",
            "2 ['Ahsan', 'Ali', 'Waqar', 'Hammad']\n",
            "3 ['Ahsan', 'Ali', 'Waqar', 'Hammad']\n",
            "4 ['Ahsan', 'Ali', 'Waqar', 'Hammad']\n"
          ]
        }
      ]
    },
    {
      "cell_type": "markdown",
      "source": [
        "**Tuples**"
      ],
      "metadata": {
        "id": "UI_4WMRTjWIg"
      }
    },
    {
      "cell_type": "code",
      "source": [
        "Person = ('Ali','25','Male','Islamabad','Pakistan')\n",
        "print(Person[0:4])"
      ],
      "metadata": {
        "colab": {
          "base_uri": "https://localhost:8080/"
        },
        "id": "r861At_Hjcqo",
        "outputId": "631be9a0-7899-4b64-ebb3-e4d906fb9f2b"
      },
      "execution_count": null,
      "outputs": [
        {
          "output_type": "stream",
          "name": "stdout",
          "text": [
            "('Ali', '25', 'Male', 'Islamabad')\n"
          ]
        }
      ]
    },
    {
      "cell_type": "code",
      "source": [
        "Person = ['Ali','25','Male','Islamabad','Pakistan']\n",
        "Person[0] = 'Abdullah'\n",
        "print(tuple(Person))"
      ],
      "metadata": {
        "colab": {
          "base_uri": "https://localhost:8080/"
        },
        "id": "vC_U95ZgkcHT",
        "outputId": "eb248abb-9098-48ae-8eaf-58c9ce343f0d"
      },
      "execution_count": null,
      "outputs": [
        {
          "output_type": "stream",
          "name": "stdout",
          "text": [
            "('Abdullah', '25', 'Male', 'Islamabad', 'Pakistan')\n"
          ]
        }
      ]
    },
    {
      "cell_type": "code",
      "source": [
        "Person=('Ali','25','Male','Islamabad','Pakistan')\n",
        "if 'Pakistan' in Person:\n",
        "  print('Yes Pakistan in the Tuple')\n",
        "else:\n",
        "  print('No Pakistan in the Tuple')"
      ],
      "metadata": {
        "colab": {
          "base_uri": "https://localhost:8080/"
        },
        "id": "ChFNpykhla_J",
        "outputId": "f651fddf-d3b7-41b0-9981-7df4a19abe29"
      },
      "execution_count": null,
      "outputs": [
        {
          "output_type": "stream",
          "name": "stdout",
          "text": [
            "Yes Pakistan in the Tuple\n"
          ]
        }
      ]
    },
    {
      "cell_type": "markdown",
      "source": [
        "**SETS**"
      ],
      "metadata": {
        "id": "bWNTkpOEnKvn"
      }
    },
    {
      "cell_type": "code",
      "source": [
        "unique_numbers = {1, 2, 2, 3, 4, 4, 5}\n",
        "unique_numbers.add(6)\n",
        "print(unique_numbers)"
      ],
      "metadata": {
        "colab": {
          "base_uri": "https://localhost:8080/"
        },
        "id": "7BgxXk1TnP84",
        "outputId": "04a1ec68-ed12-4507-afcc-e678859cb6bb"
      },
      "execution_count": null,
      "outputs": [
        {
          "output_type": "stream",
          "name": "stdout",
          "text": [
            "{1, 2, 3, 4, 5, 6}\n"
          ]
        }
      ]
    },
    {
      "cell_type": "code",
      "source": [
        "Person = {'Ali','25','Male','Islamabad','Pakistan'}\n",
        "unique_numbers = {1, 2, 2, 3, 4, 4, 5}\n",
        "Person.update(unique_numbers)\n",
        "print(Person)\n",
        "Person.discard('Ali')\n",
        "print(Person)\n",
        "Combined =Person.union(unique_numbers)\n",
        "print(Combined)\n",
        "Update = Person.intersection(unique_numbers)\n",
        "print(Update)\n"
      ],
      "metadata": {
        "colab": {
          "base_uri": "https://localhost:8080/"
        },
        "id": "mHIGywcYn1F0",
        "outputId": "977f91b2-1d3c-496b-a829-f14fa8f4762c"
      },
      "execution_count": null,
      "outputs": [
        {
          "output_type": "stream",
          "name": "stdout",
          "text": [
            "{1, '25', 2, 3, 4, 'Male', 5, 'Islamabad', 'Ali', 'Pakistan'}\n",
            "{1, '25', 2, 3, 4, 'Male', 5, 'Islamabad', 'Pakistan'}\n",
            "{1, '25', 2, 3, 4, 'Male', 5, 'Islamabad', 'Pakistan'}\n",
            "{1, 2, 3, 4, 5}\n"
          ]
        }
      ]
    }
  ]
}