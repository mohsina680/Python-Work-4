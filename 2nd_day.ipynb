{
  "nbformat": 4,
  "nbformat_minor": 0,
  "metadata": {
    "colab": {
      "provenance": [],
      "authorship_tag": "ABX9TyM4wasFhRtAo9c6AWcPHjOg",
      "include_colab_link": true
    },
    "kernelspec": {
      "name": "python3",
      "display_name": "Python 3"
    },
    "language_info": {
      "name": "python"
    }
  },
  "cells": [
    {
      "cell_type": "markdown",
      "metadata": {
        "id": "view-in-github",
        "colab_type": "text"
      },
      "source": [
        "<a href=\"https://colab.research.google.com/github/mohsina680/Python-Work-4/blob/main/2nd_day.ipynb\" target=\"_parent\"><img src=\"https://colab.research.google.com/assets/colab-badge.svg\" alt=\"Open In Colab\"/></a>"
      ]
    },
    {
      "cell_type": "code",
      "execution_count": null,
      "metadata": {
        "colab": {
          "base_uri": "https://localhost:8080/"
        },
        "id": "YqQjRaLFrty7",
        "outputId": "b27a594c-742b-4f7c-86ba-ae5b12b67704"
      },
      "outputs": [
        {
          "output_type": "stream",
          "name": "stdout",
          "text": [
            "Hello World!\n"
          ]
        }
      ],
      "source": [
        "print(\"Hello World!\")"
      ]
    },
    {
      "cell_type": "markdown",
      "source": [
        "**Intro To Basic**"
      ],
      "metadata": {
        "id": "W1d3Gmtnsd58"
      }
    },
    {
      "cell_type": "code",
      "source": [
        "x=18\n",
        "print(\"The value is x: \",x)"
      ],
      "metadata": {
        "colab": {
          "base_uri": "https://localhost:8080/"
        },
        "id": "_tpN48_ZsemY",
        "outputId": "2de4870e-5bd2-4bec-8ff4-c086560af873"
      },
      "execution_count": null,
      "outputs": [
        {
          "output_type": "stream",
          "name": "stdout",
          "text": [
            "The value is x:  18\n"
          ]
        }
      ]
    },
    {
      "cell_type": "code",
      "source": [
        "x=\"Mohsin\"\n",
        "print(x)"
      ],
      "metadata": {
        "colab": {
          "base_uri": "https://localhost:8080/"
        },
        "id": "rxB3iB4WtJPm",
        "outputId": "ac8e5f0a-8ab8-4900-fc43-c9552686839d"
      },
      "execution_count": null,
      "outputs": [
        {
          "output_type": "stream",
          "name": "stdout",
          "text": [
            "Mohsin\n"
          ]
        }
      ]
    },
    {
      "cell_type": "code",
      "source": [
        "x=x+1\n",
        "print(x)"
      ],
      "metadata": {
        "colab": {
          "base_uri": "https://localhost:8080/"
        },
        "id": "6-rn92u5tmQW",
        "outputId": "6abdc7f5-a700-4df7-b19d-d2d91962665d"
      },
      "execution_count": null,
      "outputs": [
        {
          "output_type": "stream",
          "name": "stdout",
          "text": [
            "19\n"
          ]
        }
      ]
    },
    {
      "cell_type": "code",
      "source": [
        "(type(x))"
      ],
      "metadata": {
        "colab": {
          "base_uri": "https://localhost:8080/"
        },
        "id": "8Uer28ZTuhnm",
        "outputId": "a8582bd8-1594-4b27-cb0e-8af3288ff3ea"
      },
      "execution_count": null,
      "outputs": [
        {
          "output_type": "execute_result",
          "data": {
            "text/plain": [
              "str"
            ]
          },
          "metadata": {},
          "execution_count": 19
        }
      ]
    },
    {
      "cell_type": "code",
      "source": [
        "x =(input(\"Enter the Value:\"))\n",
        "print(x)"
      ],
      "metadata": {
        "colab": {
          "base_uri": "https://localhost:8080/"
        },
        "id": "Ue5oISiIu0uz",
        "outputId": "02ee7e4b-038d-4761-e6a5-e4e15f0dbea1"
      },
      "execution_count": null,
      "outputs": [
        {
          "output_type": "stream",
          "name": "stdout",
          "text": [
            "Enter the Value:56\n",
            "56\n"
          ]
        }
      ]
    },
    {
      "cell_type": "code",
      "source": [
        "type(x)"
      ],
      "metadata": {
        "colab": {
          "base_uri": "https://localhost:8080/"
        },
        "id": "UdxMVUGnvYRo",
        "outputId": "20074aa9-42f0-4c59-a122-814955f51b76"
      },
      "execution_count": null,
      "outputs": [
        {
          "output_type": "execute_result",
          "data": {
            "text/plain": [
              "str"
            ]
          },
          "metadata": {},
          "execution_count": 26
        }
      ]
    },
    {
      "cell_type": "code",
      "source": [
        "First_name = input(\"Enter the First_Name: \")\n",
        "Last_name = input(\"Enter the Last_Name: \")\n",
        "Age = int(input(\"Enter your Age: \"))\n",
        "\n",
        "\n",
        "if Age >=18:\n",
        "  print(\"eligible for Vote\")\n",
        "else:\n",
        " print(\"Not eligible\")\n",
        "NIC = int(input(\"Enter your NIC: \"))\n",
        "print(\"---YOUR DATA---\")\n",
        "print(\"First_name: \", First_name)\n",
        "print(\"Last_name: \", Last_name)\n",
        "print(\"Age: \", Age)\n",
        "print(\"NIC: \", NIC)"
      ],
      "metadata": {
        "colab": {
          "base_uri": "https://localhost:8080/"
        },
        "id": "gz92AvljyMh9",
        "outputId": "60a8ddec-e0b4-4a92-b80b-35d2925226be"
      },
      "execution_count": null,
      "outputs": [
        {
          "output_type": "stream",
          "name": "stdout",
          "text": [
            "Enter the First_Name: M Mohsin\n",
            "Enter the Last_Name: Aleem\n",
            "Enter your Age: 20\n",
            "eligible for Vote\n",
            "Enter your NIC: 3510312853963\n",
            "---YOUR DATA---\n",
            "First_name:  M Mohsin\n",
            "Last_name:  Aleem\n",
            "Age:  20\n",
            "NIC:  3510312853963\n"
          ]
        }
      ]
    },
    {
      "cell_type": "markdown",
      "source": [
        "**AGE and Country Name**"
      ],
      "metadata": {
        "id": "YjL9pgYYDWA3"
      }
    },
    {
      "cell_type": "code",
      "source": [
        "age = int(input(\"Enter the age :\"))\n",
        "Country_name= input(\"Enter the Country_Name:\")\n",
        "if age>=18 and Country_name ==\"Pakistan\" :\n",
        "  print(\"Eligible for NIC\")\n",
        "else:\n",
        "  print(\"NOT Eligible\")"
      ],
      "metadata": {
        "colab": {
          "base_uri": "https://localhost:8080/"
        },
        "id": "vk5TrqRYDf3o",
        "outputId": "89f2668e-6601-4eca-ba0b-2c208a24904d"
      },
      "execution_count": null,
      "outputs": [
        {
          "output_type": "stream",
          "name": "stdout",
          "text": [
            "Enter the age :15\n",
            "Enter the Country_Name:Pakistan\n",
            "NOT Eligible\n"
          ]
        }
      ]
    },
    {
      "cell_type": "markdown",
      "source": [
        "**Assigining Grades**"
      ],
      "metadata": {
        "id": "qYQV5hxSFEGX"
      }
    },
    {
      "cell_type": "code",
      "source": [
        "Sub1_marks = int(input(\"Enter the Marks for Sub1: \"))\n",
        "Sub2_marks =int(input(\"Enter the Marks of Sub2: \"))\n",
        "Sub3_marks =int(input(\"Enter the Marks of Sub3: \"))\n",
        "\n",
        "if Sub1_marks >= 85:\n",
        "  print(\"grade: A\")\n",
        "elif Sub1_marks >= 75:\n",
        "  print(\"grade: B\")\n",
        "elif Sub1_marks >= 65:\n",
        "  print(\"grade: C\")\n",
        "else:\n",
        "  print(\"Fail\")\n",
        "\n",
        "if Sub2_marks >= 85:\n",
        "  print(\"grade: A\")\n",
        "elif Sub2_marks >= 75:\n",
        "  print(\"grade: B\")\n",
        "elif Sub2_marks >= 65:\n",
        "  print(\"grade: C\")\n",
        "else:\n",
        "  print(\"Fail\")\n",
        "\n",
        "if Sub3_marks >= 85:\n",
        "  print(\"grade: A\")\n",
        "elif Sub3_marks >= 75:\n",
        "  print(\"grade: B\")\n",
        "elif Sub3_marks >= 65:\n",
        "  print(\"grade: C\")\n",
        "else:\n",
        "  print(\"Fail\")\n"
      ],
      "metadata": {
        "colab": {
          "base_uri": "https://localhost:8080/"
        },
        "id": "Yo9dIXSNELNP",
        "outputId": "33a35df5-709a-4cbd-877f-0db61037625e"
      },
      "execution_count": null,
      "outputs": [
        {
          "output_type": "stream",
          "name": "stdout",
          "text": [
            "Enter the Marks for Sub1: 75\n",
            "Enter the Marks of Sub2: 85\n",
            "Enter the Marks of Sub3: 87\n",
            "grade: B\n",
            "grade: A\n",
            "grade: A\n"
          ]
        }
      ]
    },
    {
      "cell_type": "markdown",
      "source": [
        "**BMI Calculator**"
      ],
      "metadata": {
        "id": "iIOWMpTRGb29"
      }
    },
    {
      "cell_type": "code",
      "source": [
        "height =int(input(\"Enter the Height in meters: \"))\n",
        "weight = float(input(\"Enter the weight in kg: \"))\n",
        "\n",
        "BMI = weight/float(height**2)\n",
        "print(BMI)\n",
        "\n",
        "if BMI < 18.5:\n",
        "  print(\"Under weight\")\n",
        "elif 18.5 <= BMI < 24.9:\n",
        "  print(\"Normal weight\")\n",
        "elif BMI >= 25:\n",
        "  print(\"Overweight\")\n",
        "\n"
      ],
      "metadata": {
        "colab": {
          "base_uri": "https://localhost:8080/"
        },
        "id": "GZmGdEzGGiSm",
        "outputId": "f3ba6330-4603-4f4f-bd54-d9ca5ceaff07"
      },
      "execution_count": null,
      "outputs": [
        {
          "output_type": "stream",
          "name": "stdout",
          "text": [
            "Enter the Height in meters: 18\n",
            "Enter the weight in kg: 55\n",
            "0.1697530864197531\n",
            "Under weight\n"
          ]
        }
      ]
    },
    {
      "cell_type": "markdown",
      "source": [
        "**MY Personal Journey**"
      ],
      "metadata": {
        "id": "hA8xsTjUfQKi"
      }
    },
    {
      "cell_type": "code",
      "source": [
        "First_name = input(\"Enter your first_name: \")\n",
        "Last_name = input(\"Enter your last_name: \")\n",
        "Age = int(input(\"Enter your age: \"))\n",
        "NIC_no = int(input(\"Enter the NIC_no: \"))\n",
        "Obtained_marks =int(input(\"Enter your marks: \"))\n",
        "\n",
        "if Obtained_marks <= 1000 :\n",
        "  if Obtained_marks >= 950 :\n",
        "    if Obtained_marks >= 900 :\n",
        "      if Obtained_marks >= 850 :\n",
        "        if Obtained_marks <= 800 :\n",
        "          Profession = input(\"Enter your profession: \")\n",
        "          print(\"Profession: \", Profession)\n",
        "        else:\n",
        "          print(\"HR\")\n",
        "      else:\n",
        "        print(\"DVM\")\n",
        "    else:\n",
        "      print(\"DPT\")\n",
        "  else:\n",
        "    print(\"IR\")\n",
        "else:\n",
        "  print(\"Freelancer\")\n",
        "\n",
        "\n",
        "print(\"----Your Details----\")\n",
        "print(\"First_name:\", First_name)\n",
        "print(\"Last_name:\", Last_name)\n",
        "print(\"Your Age:\", Age)\n",
        "print(\"Your NIC:\", NIC_no)\n",
        "print(\"Your Profession:\" , Profession)"
      ],
      "metadata": {
        "colab": {
          "base_uri": "https://localhost:8080/"
        },
        "id": "LxX93EyVfV_O",
        "outputId": "29301f61-bb67-42ec-b24b-ae61c223415d"
      },
      "execution_count": null,
      "outputs": [
        {
          "output_type": "stream",
          "name": "stdout",
          "text": [
            "Enter your first_name: Ali\n",
            "Enter your last_name: ahsaa\n",
            "Enter your age: 21\n",
            "Enter the NIC_no: 1213\n",
            "Enter your marks: 1000\n",
            "HR\n",
            "----Your Details----\n",
            "First_name: Ali\n",
            "Last_name: ahsaa\n",
            "Your Age: 21\n",
            "Your NIC: 1213\n",
            "Your Profession: Doctor\n"
          ]
        }
      ]
    },
    {
      "cell_type": "markdown",
      "source": [
        "**Numbers**"
      ],
      "metadata": {
        "id": "MpmRtDx9hTnh"
      }
    },
    {
      "cell_type": "code",
      "source": [
        "for num in range(20):\n",
        "  if num%2==0 :\n",
        "    print(\"ODD_No:\", num)\n",
        "  elif num%2!=0:\n",
        "    print(\"Even_No:\", num)"
      ],
      "metadata": {
        "id": "2aXtZqzdm0QN",
        "colab": {
          "base_uri": "https://localhost:8080/"
        },
        "outputId": "94086981-208b-482f-fef7-16d3ed7b37e9"
      },
      "execution_count": null,
      "outputs": [
        {
          "output_type": "stream",
          "name": "stdout",
          "text": [
            "ODD_No: 0\n",
            "Even_No: 1\n",
            "ODD_No: 2\n",
            "Even_No: 3\n",
            "ODD_No: 4\n",
            "Even_No: 5\n",
            "ODD_No: 6\n",
            "Even_No: 7\n",
            "ODD_No: 8\n",
            "Even_No: 9\n",
            "ODD_No: 10\n",
            "Even_No: 11\n",
            "ODD_No: 12\n",
            "Even_No: 13\n",
            "ODD_No: 14\n",
            "Even_No: 15\n",
            "ODD_No: 16\n",
            "Even_No: 17\n",
            "ODD_No: 18\n",
            "Even_No: 19\n"
          ]
        }
      ]
    },
    {
      "cell_type": "markdown",
      "source": [
        "**Nested LOOP With IF**"
      ],
      "metadata": {
        "id": "bUzI7hG3ko9D"
      }
    },
    {
      "cell_type": "code",
      "source": [
        "for num1 in range(1,11):\n",
        "  for num2 in range()\n"
      ],
      "metadata": {
        "colab": {
          "base_uri": "https://localhost:8080/",
          "height": 193
        },
        "id": "tCZjjD7vkslj",
        "outputId": "df639414-5e21-47e3-e0c1-0133a3b60e52"
      },
      "execution_count": null,
      "outputs": [
        {
          "output_type": "error",
          "ename": "ZeroDivisionError",
          "evalue": "integer modulo by zero",
          "traceback": [
            "\u001b[0;31m---------------------------------------------------------------------------\u001b[0m",
            "\u001b[0;31mZeroDivisionError\u001b[0m                         Traceback (most recent call last)",
            "\u001b[0;32m<ipython-input-30-14f9336142ba>\u001b[0m in \u001b[0;36m<cell line: 0>\u001b[0;34m()\u001b[0m\n\u001b[1;32m      1\u001b[0m \u001b[0;32mfor\u001b[0m \u001b[0mnum1\u001b[0m \u001b[0;32min\u001b[0m \u001b[0mrange\u001b[0m\u001b[0;34m(\u001b[0m\u001b[0;36m2\u001b[0m\u001b[0;34m,\u001b[0m\u001b[0;36m10\u001b[0m\u001b[0;34m)\u001b[0m\u001b[0;34m:\u001b[0m\u001b[0;34m\u001b[0m\u001b[0;34m\u001b[0m\u001b[0m\n\u001b[1;32m      2\u001b[0m   \u001b[0;32mfor\u001b[0m \u001b[0mnum2\u001b[0m \u001b[0;32min\u001b[0m \u001b[0mrange\u001b[0m\u001b[0;34m(\u001b[0m\u001b[0;36m0\u001b[0m\u001b[0;34m,\u001b[0m\u001b[0;36m20\u001b[0m\u001b[0;34m)\u001b[0m\u001b[0;34m:\u001b[0m\u001b[0;34m\u001b[0m\u001b[0;34m\u001b[0m\u001b[0m\n\u001b[0;32m----> 3\u001b[0;31m     \u001b[0;32mif\u001b[0m \u001b[0mnum1\u001b[0m\u001b[0;34m%\u001b[0m\u001b[0mnum2\u001b[0m\u001b[0;34m==\u001b[0m\u001b[0;36m0\u001b[0m\u001b[0;34m:\u001b[0m\u001b[0;34m\u001b[0m\u001b[0;34m\u001b[0m\u001b[0m\n\u001b[0m\u001b[1;32m      4\u001b[0m       \u001b[0mprint\u001b[0m\u001b[0;34m(\u001b[0m\u001b[0;34m\"prime number:\"\u001b[0m\u001b[0;34m,\u001b[0m \u001b[0mnum1\u001b[0m\u001b[0;34m%\u001b[0m\u001b[0mnum2\u001b[0m\u001b[0;34m)\u001b[0m\u001b[0;34m\u001b[0m\u001b[0;34m\u001b[0m\u001b[0m\n",
            "\u001b[0;31mZeroDivisionError\u001b[0m: integer modulo by zero"
          ]
        }
      ]
    },
    {
      "cell_type": "markdown",
      "source": [
        "**TABLE OF 5**"
      ],
      "metadata": {
        "id": "-2vrpO7bxwl2"
      }
    },
    {
      "cell_type": "code",
      "source": [
        "num = int(input(\"Enter the number: \"))\n",
        "for i in range(1, 11):\n",
        "  print(num,\"x\", i, \"=\", i*num)\n"
      ],
      "metadata": {
        "colab": {
          "base_uri": "https://localhost:8080/"
        },
        "id": "6mTj0VLJx2d1",
        "outputId": "db94e7d8-55c7-4be8-d84b-10b11d58fd4f"
      },
      "execution_count": null,
      "outputs": [
        {
          "output_type": "stream",
          "name": "stdout",
          "text": [
            "Enter the number: 2\n",
            "2 x 1 = 2\n",
            "2 x 2 = 4\n",
            "2 x 3 = 6\n",
            "2 x 4 = 8\n",
            "2 x 5 = 10\n",
            "2 x 6 = 12\n",
            "2 x 7 = 14\n",
            "2 x 8 = 16\n",
            "2 x 9 = 18\n",
            "2 x 10 = 20\n"
          ]
        }
      ]
    },
    {
      "cell_type": "markdown",
      "source": [
        "**Print Sterick**"
      ],
      "metadata": {
        "id": "Pr_HVAGAz51T"
      }
    },
    {
      "cell_type": "code",
      "source": [
        "for i in range(1,10):\n",
        "   print(\"*\" * i)\n",
        "for i in range(10,0,-1):\n",
        "  print(\"*\" * i)\n",
        "for i in range(1,10):\n",
        "  print(\"*\" * i)\n"
      ],
      "metadata": {
        "colab": {
          "base_uri": "https://localhost:8080/"
        },
        "id": "KvL_8yiFz9a4",
        "outputId": "45072932-93b9-4954-8a5e-c5d9b02f9e6c"
      },
      "execution_count": null,
      "outputs": [
        {
          "output_type": "stream",
          "name": "stdout",
          "text": [
            "*\n",
            "**\n",
            "***\n",
            "****\n",
            "*****\n",
            "******\n",
            "*******\n",
            "********\n",
            "*********\n",
            "**********\n",
            "*********\n",
            "********\n",
            "*******\n",
            "******\n",
            "*****\n",
            "****\n",
            "***\n",
            "**\n",
            "*\n",
            "*\n",
            "**\n",
            "***\n",
            "****\n",
            "*****\n",
            "******\n",
            "*******\n",
            "********\n",
            "*********\n"
          ]
        }
      ]
    },
    {
      "cell_type": "code",
      "source": [],
      "metadata": {
        "id": "VPGIM_8k1QQx"
      },
      "execution_count": null,
      "outputs": []
    },
    {
      "cell_type": "markdown",
      "source": [
        "**Comulative Sum/fact**"
      ],
      "metadata": {
        "id": "Y7bZaBjE3Vc4"
      }
    },
    {
      "cell_type": "code",
      "source": [
        "n= int(input(\"Enter the number: \"))\n",
        "fact = 1\n",
        "for i in range(1,n+1):\n",
        "  fact = fact*i\n",
        "  print(fact)\n",
        "sum = 0\n",
        "for i in range(1,n+1):\n",
        "  sum+=i\n",
        "  print(sum)"
      ],
      "metadata": {
        "colab": {
          "base_uri": "https://localhost:8080/"
        },
        "id": "y6PVgkzd3ZW7",
        "outputId": "f5004ed5-f427-40f3-eb58-0550c2840baa"
      },
      "execution_count": null,
      "outputs": [
        {
          "output_type": "stream",
          "name": "stdout",
          "text": [
            "Enter the number: 12\n",
            "1\n",
            "2\n",
            "6\n",
            "24\n",
            "120\n",
            "720\n",
            "5040\n",
            "40320\n",
            "362880\n",
            "3628800\n",
            "39916800\n",
            "479001600\n",
            "1\n",
            "3\n",
            "6\n",
            "10\n",
            "15\n",
            "21\n",
            "28\n",
            "36\n",
            "45\n",
            "55\n",
            "66\n",
            "78\n"
          ]
        }
      ]
    },
    {
      "cell_type": "markdown",
      "source": [
        "**Task 5**: Multiples of 3 using while loop\n",
        "**From** 1 to 30, print only numbers divisible by 3\n",
        "\n"
      ],
      "metadata": {
        "id": "ijnLcZKY5a7o"
      }
    },
    {
      "cell_type": "code",
      "source": [
        "i = 1\n",
        "while i <= 30:\n",
        " if i % 3 == 0:\n",
        "     print(i)\n",
        " i = i+1"
      ],
      "metadata": {
        "colab": {
          "base_uri": "https://localhost:8080/"
        },
        "id": "9WBes9Ch6BUR",
        "outputId": "d049bb80-7400-45bb-bbdf-34b715e7712c"
      },
      "execution_count": null,
      "outputs": [
        {
          "output_type": "stream",
          "name": "stdout",
          "text": [
            "3\n",
            "6\n",
            "9\n",
            "12\n",
            "15\n",
            "18\n",
            "21\n",
            "24\n",
            "27\n",
            "30\n"
          ]
        }
      ]
    }
  ]
}